{
 "cells": [
  {
   "cell_type": "markdown",
   "metadata": {},
   "source": [
    "# Final Project: Spam Email Classifier  \n",
    "Made by: Francisco Bustamante, Daimon Spilker, Jaehyun Kim, Kevin Liang, Abhinav Ramachandran\n"
   ]
  },
  {
   "cell_type": "markdown",
   "metadata": {},
   "source": [
    "# Introduction  \n",
    "In this project we intend to use KNN classification to classify spam emails from non-spam emails. We are going to start with two very large folders full of spam and non-spam emails. From these folders we are going to tokenize all the words in every email to get a csv file that contains all the numerical values of each frequency of every word. From that data we are going to utilize exporatory data analysis to find the best features to use K-Nearest-Neighbor algorithm on. We are going to test our KNN algorithm using K-fold validation. By the end we want a model that is at least 80% accurate on detecting spam emails. "
   ]
  },
  {
   "cell_type": "markdown",
   "metadata": {},
   "source": [
    "# Data Collecting and Cleaning  \n",
    "We started with two folders, all data we used can be found here https://spamassassin.apache.org/old/publiccorpus/ (this is a publically avalible database of spam and non-spam emails). The first folder contains 500 spam emails and the second folder contains 1000 non-spam emails. We are going to tokenize each email using the bag of words model. We cleaned up some data in this stage by having the tokenizing function only tokenize strings past the \"Subject\" line of the email. This is to eliminate all the unnecessary recipient/sender information included at the top of every email. "
   ]
  }
 ],
 "metadata": {
  "colab": {
   "collapsed_sections": [],
   "name": "1A. Distribution of First Digits.ipynb",
   "provenance": []
  },
  "kernelspec": {
   "display_name": "Python 3 (ipykernel)",
   "language": "python",
   "name": "python3"
  },
  "language_info": {
   "codemirror_mode": {
    "name": "ipython",
    "version": 3
   },
   "file_extension": ".py",
   "mimetype": "text/x-python",
   "name": "python",
   "nbconvert_exporter": "python",
   "pygments_lexer": "ipython3",
   "version": "3.9.12"
  }
 },
 "nbformat": 4,
 "nbformat_minor": 4
}
