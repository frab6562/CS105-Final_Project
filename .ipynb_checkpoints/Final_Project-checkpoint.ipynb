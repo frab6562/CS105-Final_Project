{
 "cells": [
  {
   "cell_type": "markdown",
   "metadata": {},
   "source": [
    "# CS105 Final Project: Spam Email Classifier  \n",
    "Made by: Francisco Bustamante, Daimon Spilker, Jaehyun Kim, Kevin Liang, Abhinav Ramachandran\n"
   ]
  },
  {
   "cell_type": "markdown",
   "metadata": {},
   "source": [
    "# Introduction  \n",
    "In this project we intend to use KNN classification to classify spam emails from non-spam emails. We are going to start with two very large folders full of spam and non-spam emails. From these folders we are going to tokenize all the words in every email to get a csv file that contains all the numerical values of each frequency of every word. From that data we are going to utilize exporatory data analysis to find the best features to use K-Nearest-Neighbor algorithm on. We are going to test our KNN algorithm using K-fold validation. By the end we want a model that is at least 80% accurate on detecting spam emails. "
   ]
  },
  {
   "cell_type": "markdown",
   "metadata": {},
   "source": [
    "# Data Collecting and Cleaning  \n",
    "We started with two folders, all data we used can be found here https://spamassassin.apache.org/old/publiccorpus/ (this is a publicly available database of spam and non-spam emails). The first folder contains 1000 Spam emails (two folders with 500 spam emails from 2002) and the second folder holds 1500 regular emails. We are going to tokenize each email by using the bag of words model. All the email files had multiple lines of irrelevant sender and receiver information at the top. To bypass this issue, we decided to not tokenize the words before the Subject line in every email to clean up some of the data. \n",
    "We then output our data into two CSV files, Spam and Non-Spam. The top row of each CSV file holds every word that was tokenized from the emails. The second row holds the total count of each word that appears in the folders, sorted in descending order. The rest of the rows correspond to every email from our folder and the columns correspond to the frequency of that word within that specific email.\n",
    "  \n",
    "  \n",
    "<b>CSV file of spam data:</b>"
   ]
  },
  {
   "cell_type": "code",
   "execution_count": 146,
   "metadata": {},
   "outputs": [
    {
     "data": {
      "text/html": [
       "<div>\n",
       "<style scoped>\n",
       "    .dataframe tbody tr th:only-of-type {\n",
       "        vertical-align: middle;\n",
       "    }\n",
       "\n",
       "    .dataframe tbody tr th {\n",
       "        vertical-align: top;\n",
       "    }\n",
       "\n",
       "    .dataframe thead th {\n",
       "        text-align: right;\n",
       "    }\n",
       "</style>\n",
       "<table border=\"1\" class=\"dataframe\">\n",
       "  <thead>\n",
       "    <tr style=\"text-align: right;\">\n",
       "      <th></th>\n",
       "      <th>the</th>\n",
       "      <th>to</th>\n",
       "      <th>and</th>\n",
       "      <th>of</th>\n",
       "      <th>you</th>\n",
       "      <th>=</th>\n",
       "      <th>a</th>\n",
       "      <th>in</th>\n",
       "      <th>for</th>\n",
       "      <th>your</th>\n",
       "      <th>...</th>\n",
       "      <th>width=3D\"43\"</th>\n",
       "      <th>type=3D\"submit\"</th>\n",
       "      <th>name=3D\"hdnRecipientTxt\"</th>\n",
       "      <th>name=3D\"hdnSubjectTxt\"</th>\n",
       "      <th>type=3D'hidden'</th>\n",
       "      <th>name=3D'SentTo'</th>\n",
       "      <th>value=3D'304704'&gt;</th>\n",
       "      <th>longer</th>\n",
       "      <th>matter</th>\n",
       "      <th>Type</th>\n",
       "    </tr>\n",
       "  </thead>\n",
       "  <tbody>\n",
       "    <tr>\n",
       "      <th>0</th>\n",
       "      <td>10172</td>\n",
       "      <td>8816</td>\n",
       "      <td>6943</td>\n",
       "      <td>6809</td>\n",
       "      <td>4973</td>\n",
       "      <td>4484</td>\n",
       "      <td>4316</td>\n",
       "      <td>3840</td>\n",
       "      <td>3817</td>\n",
       "      <td>3121</td>\n",
       "      <td>...</td>\n",
       "      <td>56</td>\n",
       "      <td>56</td>\n",
       "      <td>56</td>\n",
       "      <td>56</td>\n",
       "      <td>56</td>\n",
       "      <td>56</td>\n",
       "      <td>56</td>\n",
       "      <td>56</td>\n",
       "      <td>56</td>\n",
       "      <td>spam</td>\n",
       "    </tr>\n",
       "    <tr>\n",
       "      <th>1</th>\n",
       "      <td>0</td>\n",
       "      <td>0</td>\n",
       "      <td>0</td>\n",
       "      <td>0</td>\n",
       "      <td>0</td>\n",
       "      <td>0</td>\n",
       "      <td>0</td>\n",
       "      <td>0</td>\n",
       "      <td>0</td>\n",
       "      <td>0</td>\n",
       "      <td>...</td>\n",
       "      <td>0</td>\n",
       "      <td>0</td>\n",
       "      <td>0</td>\n",
       "      <td>0</td>\n",
       "      <td>0</td>\n",
       "      <td>0</td>\n",
       "      <td>0</td>\n",
       "      <td>0</td>\n",
       "      <td>0</td>\n",
       "      <td>spam</td>\n",
       "    </tr>\n",
       "    <tr>\n",
       "      <th>2</th>\n",
       "      <td>3</td>\n",
       "      <td>5</td>\n",
       "      <td>3</td>\n",
       "      <td>3</td>\n",
       "      <td>5</td>\n",
       "      <td>3</td>\n",
       "      <td>1</td>\n",
       "      <td>4</td>\n",
       "      <td>4</td>\n",
       "      <td>2</td>\n",
       "      <td>...</td>\n",
       "      <td>0</td>\n",
       "      <td>0</td>\n",
       "      <td>0</td>\n",
       "      <td>0</td>\n",
       "      <td>0</td>\n",
       "      <td>0</td>\n",
       "      <td>0</td>\n",
       "      <td>0</td>\n",
       "      <td>0</td>\n",
       "      <td>spam</td>\n",
       "    </tr>\n",
       "  </tbody>\n",
       "</table>\n",
       "<p>3 rows × 1001 columns</p>\n",
       "</div>"
      ],
      "text/plain": [
       "     the    to   and    of   you     =     a    in   for  your  ...  \\\n",
       "0  10172  8816  6943  6809  4973  4484  4316  3840  3817  3121  ...   \n",
       "1      0     0     0     0     0     0     0     0     0     0  ...   \n",
       "2      3     5     3     3     5     3     1     4     4     2  ...   \n",
       "\n",
       "   width=3D\"43\"  type=3D\"submit\"  name=3D\"hdnRecipientTxt\"  \\\n",
       "0            56               56                        56   \n",
       "1             0                0                         0   \n",
       "2             0                0                         0   \n",
       "\n",
       "   name=3D\"hdnSubjectTxt\"  type=3D'hidden'  name=3D'SentTo'  \\\n",
       "0                      56               56               56   \n",
       "1                       0                0                0   \n",
       "2                       0                0                0   \n",
       "\n",
       "   value=3D'304704'>  longer  matter  Type  \n",
       "0                 56      56      56  spam  \n",
       "1                  0       0       0  spam  \n",
       "2                  0       0       0  spam  \n",
       "\n",
       "[3 rows x 1001 columns]"
      ]
     },
     "execution_count": 146,
     "metadata": {},
     "output_type": "execute_result"
    }
   ],
   "source": [
    "import pandas as pd\n",
    "import numpy as np\n",
    "\n",
    "spam = pd.read_csv(\"New_Spam.csv\")\n",
    "spam[\"Type\"] = \"spam\"\n",
    "\n",
    "spam.loc[:,'money':'but'] = spam.loc[:,'money':'but'].replace(np.nan, 0)\n",
    "\n",
    "not_spam = pd.read_csv(\"New_NoSpam.csv\")\n",
    "not_spam[\"Type\"] = \"not_spam\" \n",
    "\n",
    "not_spam.loc[:,'money':'but'] = spam.loc[:,'money':'but'].replace(np.nan, 0)\n",
    "\n",
    "spam.head(3)"
   ]
  },
  {
   "cell_type": "markdown",
   "metadata": {},
   "source": [
    "# Exploratory Data Analysis"
   ]
  },
  {
   "cell_type": "code",
   "execution_count": 114,
   "metadata": {},
   "outputs": [
    {
     "data": {
      "text/plain": [
       "<function matplotlib.pyplot.show(close=None, block=None)>"
      ]
     },
     "execution_count": 114,
     "metadata": {},
     "output_type": "execute_result"
    },
    {
     "data": {
      "image/png": "[encoded data removed]",
      "text/plain": [
       "<Figure size 432x288 with 1 Axes>"
      ]
     },
     "metadata": {
      "needs_background": "light"
     },
     "output_type": "display_data"
    }
   ],
   "source": [
    "import matplotlib.pyplot as plt\n",
    "import matplotlib.patches as mpatches\n",
    "\n",
    "df0 = pd.read_csv(\"fp.csv\")\n",
    "\n",
    "df0.plot.bar(stacked=True)\n",
    "\n",
    "A = mpatches.Patch(color='cornflowerblue', label='\"but\"')\n",
    "B = mpatches.Patch(color='orange', label='\"money\"')\n",
    "C = mpatches.Patch(color='none', label='0 - spam')\n",
    "D = mpatches.Patch(color='none', label='1 - not spam')\n",
    "\n",
    "plt.legend(handles=[A,B,C,D], loc=2)\n",
    "plt.show \n"
   ]
  },
  {
   "cell_type": "markdown",
   "metadata": {},
   "source": [
    "We chose to use a stacked bar chart to show the comparison between the frequency of the words \"but\" and \"money\" in the spam and non-spam emails. We can see from this visualization that there is an \n",
    "interesting comparison between the words, which \n",
    "makes it a prime subject for our KNN classifier. \"Money” seems to be used much more often in spam emails compared to such a commonly used word like “but”, which makes sense, seeing that the prime focus of spam emails is (most of the time) money-driven."
   ]
  },
  {
   "cell_type": "code",
   "execution_count": 139,
   "metadata": {},
   "outputs": [
    {
     "name": "stdout",
     "output_type": "stream",
     "text": [
      "0 = send 1 = money 2 = should, 3 = would, 4 = please, 5 = have\n"
     ]
    },
    {
     "data": {
      "image/png": "[encoded data removed]",
      "text/plain": [
       "<Figure size 432x288 with 1 Axes>"
      ]
     },
     "metadata": {
      "needs_background": "light"
     },
     "output_type": "display_data"
    }
   ],
   "source": [
    "jdata = pd.read_csv(\"visualdata-2.csv\")\n",
    "jdata.head()\n",
    "jdata.plot.bar(stacked=True)\n",
    "plt.show\n",
    "print(\"0 = send 1 = money 2 = should, 3 = would, 4 = please, 5 = have\")"
   ]
  },
  {
   "cell_type": "markdown",
   "metadata": {},
   "source": [
    "Using a stacked bar chart further illustrates the search for the most efficient features for our KNN search algorithm, as it shows words that are predominantly present in either the spam or nonspam emails. In this visualization, we can see that the words send and money are largely utilized in spam emails in comparison to non spam emails. These words may be commonly used in scam emails, which are classified as spam. Scam emails often have requests for receivers to send money, and thus have these words occurring more often. This helps us identify candidates to use as our KNN algorithm classifiers."
   ]
  },
  {
   "cell_type": "code",
   "execution_count": 155,
   "metadata": {},
   "outputs": [
    {
     "data": {
      "text/plain": [
       "<AxesSubplot:xlabel='Type', ylabel='2002'>"
      ]
     },
     "execution_count": 155,
     "metadata": {},
     "output_type": "execute_result"
    },
    {
     "data": {
      "image/png": "[encoded data removed]",
      "text/plain": [
       "<Figure size 432x288 with 1 Axes>"
      ]
     },
     "metadata": {
      "needs_background": "light"
     },
     "output_type": "display_data"
    }
   ],
   "source": [
    "Spam_features = spam[['money' , 'but', 'send', '=', 'can', 'free', 'name', 'not', 'which', '2002','Type']]\n",
    "Not_spam_features = not_spam[['money', 'but', 'send', '=', 'can', 'free' , 'name', 'not', 'which', '2002','Type']]\n",
    "\n",
    "features = pd.concat([Spam_features,Not_spam_features])\n",
    "features = features.drop([0])\n",
    "\n",
    "sns.violinplot(data= features, x= \"Type\", y=\"2002\")"
   ]
  },
  {
   "cell_type": "markdown",
   "metadata": {},
   "source": [
    "Using a violin plot we can see that the word \"2002\" is used alot in both spam and not spam emails. This is beacause our data is from the year 2002. So alot of emails tend to be dated. We can see from the voilin graph that the majority of not spam emails use the year in them at least 10 times and in spam, it is used on average 7 times per email. So using this knowledge we know that spam emails will have less mentions of 2002 than real ones. This makes it a great candidate for a feature in our KNN model and will therefore be used. "
   ]
  },
  {
   "cell_type": "markdown",
   "metadata": {},
   "source": [
    "# KNN Classifier (Main Part)  \n",
    "We want to create a KNN classifier that uses various words as our features to classify spam emails. Starting with only 2 features we chose the words \"money\" and \"but\" as our features. We chose these two because we noticed that both words we some that were used more in one type of email than the other. For example, the word \"money\" appeared way more in spam emails than in regular emails. We chose the word \"but\" because we saw a trend where spam emails generally do not use this word because they are trying to get the user to do something. When using the word \"but\" it means the speaker is digressing on some topic which a spam emails usually does not do."
   ]
  },
  {
   "cell_type": "code",
   "execution_count": 116,
   "metadata": {},
   "outputs": [
    {
     "data": {
      "text/plain": [
       "<AxesSubplot:xlabel='money', ylabel='but'>"
      ]
     },
     "execution_count": 116,
     "metadata": {},
     "output_type": "execute_result"
    },
    {
     "data": {
      "image/png": "[encoded data removed]",
      "text/plain": [
       "<Figure size 432x288 with 1 Axes>"
      ]
     },
     "metadata": {
      "needs_background": "light"
     },
     "output_type": "display_data"
    }
   ],
   "source": [
    "from sklearn.neighbors import KNeighborsClassifier\n",
    "import seaborn as sns\n",
    "from matplotlib.colors import ListedColormap\n",
    "from sklearn import neighbors, datasets\n",
    "from sklearn.inspection import DecisionBoundaryDisplay\n",
    "\n",
    "n_neighbors = 100\n",
    "\n",
    "Spam_features = spam[['money' , 'but', 'Type']]\n",
    "Not_spam_features = not_spam[['money', 'but', 'Type']]\n",
    "\n",
    "features = pd.concat([Spam_features,Not_spam_features])\n",
    "features = features.drop([0])\n",
    "\n",
    "X = features[['money', 'but']]\n",
    "y = features['Type']\n",
    "\n",
    "cmap_light = ListedColormap([\"orange\", \"cyan\", \"cornflowerblue\"])\n",
    "\n",
    "clf = neighbors.KNeighborsClassifier(n_neighbors, weights= \"distance\")\n",
    "clf.fit(X, y)\n",
    "\n",
    "_, ax = plt.subplots()\n",
    "DecisionBoundaryDisplay.from_estimator(\n",
    "        clf,\n",
    "        X,\n",
    "        cmap=cmap_light,\n",
    "        ax=ax,\n",
    "        response_method=\"predict\",\n",
    "        plot_method=\"pcolormesh\",\n",
    "        shading=\"auto\",\n",
    "    )\n",
    "\n",
    "sns.scatterplot( data = features, x = \"money\", y = \"but\", hue = \"Type\", alpha=1.0, edgecolor=\"black\")"
   ]
  },
  {
   "cell_type": "markdown",
   "metadata": {},
   "source": [
    "After running the KNN algorithm using \"but\" and \"money\" as our features, we see a good division between spam and not spam emails, however, alot of points are stacked on top of each other due to them containg the same value of instances where the words \"money\" and \"but\" show up. This is not good as our model is overfitting just because we have so many data points stacked on each other. We are going to run K-fold validation test anyway to see our accuracy of our model but we know it is not going to be too good."
   ]
  },
  {
   "cell_type": "markdown",
   "metadata": {},
   "source": [
    "Choosing our k, for k cross validation, we went with a value of 500, as we wanted to train our model on a bigger training set, which leads to our model being able to readily\n",
    "access more available data. This in turn should lead to a lower prediction error as our fitted values would be closer to our predictive function. For our k value in our KNN classifier, \n",
    "we went with a value of K=100, due to the size of our dataset. Because we had over 1000+ rows of words in our data, we needed a higher number of training samples in order to classify\n",
    "a test instance, so we felt that a value of 100 was appropriate."
   ]
  },
  {
   "cell_type": "code",
   "execution_count": 117,
   "metadata": {},
   "outputs": [
    {
     "name": "stdout",
     "output_type": "stream",
     "text": [
      "Accuracy: 0.663 (0.205)\n"
     ]
    }
   ],
   "source": [
    "from sklearn.model_selection import cross_validate\n",
    "from sklearn.model_selection import cross_val_score\n",
    "from sklearn.metrics import f1_score\n",
    "from numpy import mean\n",
    "from numpy import std\n",
    "%matplotlib inline\n",
    "\n",
    "scores = cross_val_score(clf, X, y, scoring= 'accuracy', cv=500)\n",
    "print('Accuracy: %.3f (%.3f)' % (mean(scores), std(scores)))"
   ]
  },
  {
   "cell_type": "markdown",
   "metadata": {},
   "source": [
    "Now that we ran K-fold validation with k = 500, we see that our accuracy was 66%. This is not good as a simple coin flip can do better than our model. We know that we overfitted our model so we are going to increase the number of features we have to eliminiate the number of points stacking on top of each other. Next we will try KNN algorithm with 7 features. "
   ]
  },
  {
   "cell_type": "code",
   "execution_count": 156,
   "metadata": {},
   "outputs": [
    {
     "data": {
      "text/html": [
       "<style>#sk-container-id-38 {color: black;background-color: white;}#sk-container-id-38 pre{padding: 0;}#sk-container-id-38 div.sk-toggleable {background-color: white;}#sk-container-id-38 label.sk-toggleable__label {cursor: pointer;display: block;width: 100%;margin-bottom: 0;padding: 0.3em;box-sizing: border-box;text-align: center;}#sk-container-id-38 label.sk-toggleable__label-arrow:before {content: \"▸\";float: left;margin-right: 0.25em;color: #696969;}#sk-container-id-38 label.sk-toggleable__label-arrow:hover:before {color: black;}#sk-container-id-38 div.sk-estimator:hover label.sk-toggleable__label-arrow:before {color: black;}#sk-container-id-38 div.sk-toggleable__content {max-height: 0;max-width: 0;overflow: hidden;text-align: left;background-color: #f0f8ff;}#sk-container-id-38 div.sk-toggleable__content pre {margin: 0.2em;color: black;border-radius: 0.25em;background-color: #f0f8ff;}#sk-container-id-38 input.sk-toggleable__control:checked~div.sk-toggleable__content {max-height: 200px;max-width: 100%;overflow: auto;}#sk-container-id-38 input.sk-toggleable__control:checked~label.sk-toggleable__label-arrow:before {content: \"▾\";}#sk-container-id-38 div.sk-estimator input.sk-toggleable__control:checked~label.sk-toggleable__label {background-color: #d4ebff;}#sk-container-id-38 div.sk-label input.sk-toggleable__control:checked~label.sk-toggleable__label {background-color: #d4ebff;}#sk-container-id-38 input.sk-hidden--visually {border: 0;clip: rect(1px 1px 1px 1px);clip: rect(1px, 1px, 1px, 1px);height: 1px;margin: -1px;overflow: hidden;padding: 0;position: absolute;width: 1px;}#sk-container-id-38 div.sk-estimator {font-family: monospace;background-color: #f0f8ff;border: 1px dotted black;border-radius: 0.25em;box-sizing: border-box;margin-bottom: 0.5em;}#sk-container-id-38 div.sk-estimator:hover {background-color: #d4ebff;}#sk-container-id-38 div.sk-parallel-item::after {content: \"\";width: 100%;border-bottom: 1px solid gray;flex-grow: 1;}#sk-container-id-38 div.sk-label:hover label.sk-toggleable__label {background-color: #d4ebff;}#sk-container-id-38 div.sk-serial::before {content: \"\";position: absolute;border-left: 1px solid gray;box-sizing: border-box;top: 0;bottom: 0;left: 50%;z-index: 0;}#sk-container-id-38 div.sk-serial {display: flex;flex-direction: column;align-items: center;background-color: white;padding-right: 0.2em;padding-left: 0.2em;position: relative;}#sk-container-id-38 div.sk-item {position: relative;z-index: 1;}#sk-container-id-38 div.sk-parallel {display: flex;align-items: stretch;justify-content: center;background-color: white;position: relative;}#sk-container-id-38 div.sk-item::before, #sk-container-id-38 div.sk-parallel-item::before {content: \"\";position: absolute;border-left: 1px solid gray;box-sizing: border-box;top: 0;bottom: 0;left: 50%;z-index: -1;}#sk-container-id-38 div.sk-parallel-item {display: flex;flex-direction: column;z-index: 1;position: relative;background-color: white;}#sk-container-id-38 div.sk-parallel-item:first-child::after {align-self: flex-end;width: 50%;}#sk-container-id-38 div.sk-parallel-item:last-child::after {align-self: flex-start;width: 50%;}#sk-container-id-38 div.sk-parallel-item:only-child::after {width: 0;}#sk-container-id-38 div.sk-dashed-wrapped {border: 1px dashed gray;margin: 0 0.4em 0.5em 0.4em;box-sizing: border-box;padding-bottom: 0.4em;background-color: white;}#sk-container-id-38 div.sk-label label {font-family: monospace;font-weight: bold;display: inline-block;line-height: 1.2em;}#sk-container-id-38 div.sk-label-container {text-align: center;}#sk-container-id-38 div.sk-container {/* jupyter's `normalize.less` sets `[hidden] { display: none; }` but bootstrap.min.css set `[hidden] { display: none !important; }` so we also need the `!important` here to be able to override the default hidden behavior on the sphinx rendered scikit-learn.org. See: https://github.com/scikit-learn/scikit-learn/issues/21755 */display: inline-block !important;position: relative;}#sk-container-id-38 div.sk-text-repr-fallback {display: none;}</style><div id=\"sk-container-id-38\" class=\"sk-top-container\"><div class=\"sk-text-repr-fallback\"><pre>KNeighborsClassifier(n_neighbors=100, weights=&#x27;distance&#x27;)</pre><b>In a Jupyter environment, please rerun this cell to show the HTML representation or trust the notebook. <br />On GitHub, the HTML representation is unable to render, please try loading this page with nbviewer.org.</b></div><div class=\"sk-container\" hidden><div class=\"sk-item\"><div class=\"sk-estimator sk-toggleable\"><input class=\"sk-toggleable__control sk-hidden--visually\" id=\"sk-estimator-id-38\" type=\"checkbox\" checked><label for=\"sk-estimator-id-38\" class=\"sk-toggleable__label sk-toggleable__label-arrow\">KNeighborsClassifier</label><div class=\"sk-toggleable__content\"><pre>KNeighborsClassifier(n_neighbors=100, weights=&#x27;distance&#x27;)</pre></div></div></div></div></div>"
      ],
      "text/plain": [
       "KNeighborsClassifier(n_neighbors=100, weights='distance')"
      ]
     },
     "execution_count": 156,
     "metadata": {},
     "output_type": "execute_result"
    }
   ],
   "source": [
    "n_neighbors = 100\n",
    "\n",
    "Spam_features = spam[['money' , 'but', 'send', '=', 'can', 'free', 'name', 'not', 'which', '2002','Type']]\n",
    "Not_spam_features = not_spam[['money', 'but', 'send', '=', 'can', 'free' , 'name', 'not', 'which', '2002','Type']]\n",
    "\n",
    "features = pd.concat([Spam_features,Not_spam_features])\n",
    "features = features.drop([0])\n",
    "\n",
    "X = features[['money', 'but', 'send', '=', 'can', 'free','name','not','which', '2002']]\n",
    "y = features['Type']\n",
    "\n",
    "cmap_light = ListedColormap([\"orange\", \"cyan\", \"cornflowerblue\"])\n",
    "\n",
    "clf = neighbors.KNeighborsClassifier(n_neighbors, weights= \"distance\")\n",
    "clf.fit(X, y)"
   ]
  },
  {
   "cell_type": "markdown",
   "metadata": {},
   "source": [
    "To choose these words, we based them off of how relevant they were in our huge datasets of emails. For example, words like 'free', and 'send' appeared a lot in spam emails which is \n",
    "not surprising since spam emails are mainly trying to get you to open the emails with enticing words. Scam emails were also very prevalent back then, (nowadays as well) therefore it \n",
    "makes sense that the word 'send' was included a lot, as the emails would try to trick people into sending money, or bank information. In addition, special characters such as '=' and '<>' \n",
    "were frequently found in spam mails, understandably, when phishing sites would send html tags in order to get users to open links without getting their URL tracked. Words such as 'which'\n",
    "and '2002' were found a lot in non spam emails, mainly because real emails contained more in depth conversations while spam emails were mostly ads, and phishing attempts that just tried\n",
    "to bait people. As many of the emails we got from our data were from 2002, it would make sense that more nonspam emails contained that, since people were more likely to sign their email \n",
    "off with a date and a signature."
   ]
  },
  {
   "cell_type": "code",
   "execution_count": 140,
   "metadata": {},
   "outputs": [
    {
     "name": "stdout",
     "output_type": "stream",
     "text": [
      "Accuracy: 0.913 (0.141)\n"
     ]
    }
   ],
   "source": [
    "scores = cross_val_score(clf, X, y, scoring= 'accuracy', cv=500)\n",
    "print('Accuracy: %.3f (%.3f)' % (mean(scores), std(scores)))"
   ]
  },
  {
   "cell_type": "markdown",
   "metadata": {},
   "source": [
    "# Conclusion   \n",
    "Beginning with two large files, one full of spam emails and one containing non spam, we tokenized all emails in both files. We then used exploratory data analysis to figure out which words we wanted to use as a feature for training our KNN model. We used a feature value of 2 to begin and got a low accuracy level, while aiming for 80 percent. We relized that 2 features is way too low of a number for the accuracy we were aiming for. The error in using 2 features was that it contained too little information on the emails. Through more testing and improved techniques, we utilized a feature value of 7 specified features and improved our results. In conclusion, we successfully created a KNN spam email classification algorithm reaping a success rate of 91 percent when tesing it with K-fold validation. "
   ]
  },
  {
   "cell_type": "markdown",
   "metadata": {},
   "source": [
    "# Contributions  \n",
    "Francisco - Data collecting, Violin plot, KNN algorithm, K-Fold  \n",
    "Kevin - Data cleaning, Data tokenizing( bag of words model)  \n",
    "Jae - KNN algorithm, K-fold validation, and KNN analysis  \n",
    "Daimon - Exploratory data Analysis and slideshow  \n",
    "Abhinav - Exploratory data Analysis and conclusion"
   ]
  }
 ],
 "metadata": {
  "colab": {
   "collapsed_sections": [],
   "name": "1A. Distribution of First Digits.ipynb",
   "provenance": []
  },
  "kernelspec": {
   "display_name": "Python 3 (ipykernel)",
   "language": "python",
   "name": "python3"
  },
  "language_info": {
   "codemirror_mode": {
    "name": "ipython",
    "version": 3
   },
   "file_extension": ".py",
   "mimetype": "text/x-python",
   "name": "python",
   "nbconvert_exporter": "python",
   "pygments_lexer": "ipython3",
   "version": "3.9.12"
  }
 },
 "nbformat": 4,
 "nbformat_minor": 4
}
