{
 "cells": [
  {
   "cell_type": "markdown",
   "metadata": {},
   "source": [
    "# CS105 Final Project: Spam Email Classifier  \n",
    "Made by: Francisco Bustamante, Daimon Spilker, Jaehyun Kim, Kevin Liang, Abhinav Ramachandran\n"
   ]
  },
  {
   "cell_type": "markdown",
   "metadata": {},
   "source": [
    "# Introduction  \n",
    "In this project we intend to use KNN classification to classify spam emails from non-spam emails. We are going to start with two very large folders full of spam and non-spam emails. From these folders we are going to tokenize all the words in every email to get a csv file that contains all the numerical values of each frequency of every word. From that data we are going to utilize exporatory data analysis to find the best features to use K-Nearest-Neighbor algorithm on. We are going to test our KNN algorithm using K-fold validation. By the end we want a model that is at least 80% accurate on detecting spam emails. "
   ]
  },
  {
   "cell_type": "markdown",
   "metadata": {},
   "source": [
    "# Data Collecting and Cleaning  \n",
    "We started with two folders, all data we used can be found here https://spamassassin.apache.org/old/publiccorpus/ (this is a publically avalible database of spam and non-spam emails). The first folder contains 500 spam emails and the second folder contains 1000 non-spam emails. We are going to tokenize each email using the bag of words model. We cleaned up some data in this stage by having the tokenizing function only tokenize strings past the \"Subject\" line of the email. This is to eliminate all the unnecessary recipient/sender information included at the top of every email. We then end up with two CSV files, one for spam emails and one for non-spam emails. Every row of the CSV file corresponds to an email while every column correspsponds to a frequency of a word within that specific email.  \n",
    "  \n",
    "  \n",
    "<b>CSV file of spam data:</b>"
   ]
  },
  {
   "cell_type": "code",
   "execution_count": 1,
   "metadata": {},
   "outputs": [
    {
     "data": {
      "text/html": [
       "<div>\n",
       "<style scoped>\n",
       "    .dataframe tbody tr th:only-of-type {\n",
       "        vertical-align: middle;\n",
       "    }\n",
       "\n",
       "    .dataframe tbody tr th {\n",
       "        vertical-align: top;\n",
       "    }\n",
       "\n",
       "    .dataframe thead th {\n",
       "        text-align: right;\n",
       "    }\n",
       "</style>\n",
       "<table border=\"1\" class=\"dataframe\">\n",
       "  <thead>\n",
       "    <tr style=\"text-align: right;\">\n",
       "      <th></th>\n",
       "      <th>and</th>\n",
       "      <th>you</th>\n",
       "      <th>=</th>\n",
       "      <th>a</th>\n",
       "      <th>&lt;td</th>\n",
       "      <th>I</th>\n",
       "      <th>&lt;/tr&gt;</th>\n",
       "      <th>that</th>\n",
       "      <th>is</th>\n",
       "      <th>or</th>\n",
       "      <th>...</th>\n",
       "      <th>Federal</th>\n",
       "      <th>due</th>\n",
       "      <th>&lt;ul&gt;</th>\n",
       "      <th>Six</th>\n",
       "      <th>recently</th>\n",
       "      <th>five</th>\n",
       "      <th>lot</th>\n",
       "      <th>strongly</th>\n",
       "      <th>Jody</th>\n",
       "      <th>possible</th>\n",
       "    </tr>\n",
       "  </thead>\n",
       "  <tbody>\n",
       "    <tr>\n",
       "      <th>0</th>\n",
       "      <td>3479</td>\n",
       "      <td>2503</td>\n",
       "      <td>2243</td>\n",
       "      <td>2161</td>\n",
       "      <td>1447</td>\n",
       "      <td>1120</td>\n",
       "      <td>1061</td>\n",
       "      <td>1030</td>\n",
       "      <td>1018</td>\n",
       "      <td>930</td>\n",
       "      <td>...</td>\n",
       "      <td>26</td>\n",
       "      <td>26</td>\n",
       "      <td>26</td>\n",
       "      <td>26</td>\n",
       "      <td>26</td>\n",
       "      <td>26</td>\n",
       "      <td>26</td>\n",
       "      <td>26</td>\n",
       "      <td>26</td>\n",
       "      <td>26</td>\n",
       "    </tr>\n",
       "    <tr>\n",
       "      <th>1</th>\n",
       "      <td>0</td>\n",
       "      <td>0</td>\n",
       "      <td>0</td>\n",
       "      <td>0</td>\n",
       "      <td>0</td>\n",
       "      <td>0</td>\n",
       "      <td>0</td>\n",
       "      <td>0</td>\n",
       "      <td>0</td>\n",
       "      <td>0</td>\n",
       "      <td>...</td>\n",
       "      <td>0</td>\n",
       "      <td>0</td>\n",
       "      <td>0</td>\n",
       "      <td>0</td>\n",
       "      <td>0</td>\n",
       "      <td>0</td>\n",
       "      <td>0</td>\n",
       "      <td>0</td>\n",
       "      <td>0</td>\n",
       "      <td>0</td>\n",
       "    </tr>\n",
       "    <tr>\n",
       "      <th>2</th>\n",
       "      <td>3</td>\n",
       "      <td>5</td>\n",
       "      <td>3</td>\n",
       "      <td>1</td>\n",
       "      <td>0</td>\n",
       "      <td>0</td>\n",
       "      <td>0</td>\n",
       "      <td>0</td>\n",
       "      <td>3</td>\n",
       "      <td>1</td>\n",
       "      <td>...</td>\n",
       "      <td>0</td>\n",
       "      <td>0</td>\n",
       "      <td>0</td>\n",
       "      <td>0</td>\n",
       "      <td>0</td>\n",
       "      <td>0</td>\n",
       "      <td>0</td>\n",
       "      <td>0</td>\n",
       "      <td>0</td>\n",
       "      <td>0</td>\n",
       "    </tr>\n",
       "  </tbody>\n",
       "</table>\n",
       "<p>3 rows × 1000 columns</p>\n",
       "</div>"
      ],
      "text/plain": [
       "    and   you     =     a   <td     I  </tr>  that    is   or  ...  Federal  \\\n",
       "0  3479  2503  2243  2161  1447  1120   1061  1030  1018  930  ...       26   \n",
       "1     0     0     0     0     0     0      0     0     0    0  ...        0   \n",
       "2     3     5     3     1     0     0      0     0     3    1  ...        0   \n",
       "\n",
       "   due  <ul>  Six  recently  five  lot  strongly  Jody  possible  \n",
       "0   26    26   26        26    26   26        26    26        26  \n",
       "1    0     0    0         0     0    0         0     0         0  \n",
       "2    0     0    0         0     0    0         0     0         0  \n",
       "\n",
       "[3 rows x 1000 columns]"
      ]
     },
     "execution_count": 1,
     "metadata": {},
     "output_type": "execute_result"
    }
   ],
   "source": [
    "import pandas as pd\n",
    "import matplotlib.pyplot as plt\n",
    "import seaborn as sns\n",
    "import numpy as np\n",
    "\n",
    "df = pd.read_csv(\"Spam_data.csv\")\n",
    "df.head(3)"
   ]
  },
  {
   "cell_type": "markdown",
   "metadata": {},
   "source": [
    "# Exploratory Data Analysis"
   ]
  },
  {
   "cell_type": "markdown",
   "metadata": {},
   "source": [
    "We are going to use <insert_plot> and <insert_plot> to search for the best features to use for our KNN classifier. "
   ]
  },
  {
   "cell_type": "markdown",
   "metadata": {},
   "source": [
    "# KNN Classifier (Main Part)  \n",
    "We want to create a KNN classifier that uses x,y, and z features to classify spam emails. Using KNN ..."
   ]
  },
  {
   "cell_type": "markdown",
   "metadata": {},
   "source": [
    "# Conclusion (Report)  \n",
    "We got a KNN classifier that has an accuracy of ..."
   ]
  }
 ],
 "metadata": {
  "colab": {
   "collapsed_sections": [],
   "name": "1A. Distribution of First Digits.ipynb",
   "provenance": []
  },
  "kernelspec": {
   "display_name": "Python 3 (ipykernel)",
   "language": "python",
   "name": "python3"
  },
  "language_info": {
   "codemirror_mode": {
    "name": "ipython",
    "version": 3
   },
   "file_extension": ".py",
   "mimetype": "text/x-python",
   "name": "python",
   "nbconvert_exporter": "python",
   "pygments_lexer": "ipython3",
   "version": "3.9.12"
  }
 },
 "nbformat": 4,
 "nbformat_minor": 4
}
